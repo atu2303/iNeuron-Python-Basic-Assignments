{
 "cells": [
  {
   "cell_type": "markdown",
   "id": "c6ae2201",
   "metadata": {},
   "source": [
    "```\n",
    "\n",
    "Q.1. Create two int type variables, apply addition, subtraction, division and multiplications\n",
    "and store the results in variables. Then print the data in the following format by calling the\n",
    "variables:\n",
    "First variable is __ & second variable is __.\n",
    "Addition: __ + __ = __\n",
    "Subtraction: __ - __ = __\n",
    "Multiplication: __ * __ = __\n",
    "Division: __ / __ = __\n",
    "\n",
    "\n",
    "```\n",
    "\n"
   ]
  },
  {
   "cell_type": "code",
   "execution_count": 10,
   "id": "a5693090",
   "metadata": {},
   "outputs": [
    {
     "name": "stdout",
     "output_type": "stream",
     "text": [
      "First Variable is 10 & second variable is 20\n",
      "Addition: 10 + 20 = 30\n",
      "substraction: 10 - 20 = -10\n",
      "multiplication: 10 * 20 = 200\n",
      "Division: 10 / 20 = 0.5\n"
     ]
    }
   ],
   "source": [
    "first_int=10\n",
    "secnd_int=20\n",
    "addition=first_int+secnd_int\n",
    "substraction=first_int-secnd_int\n",
    "Multiplication=first_int*secnd_int\n",
    "Division=first_int/secnd_int\n",
    "print(\"First Variable is \" + str(first_int) + \" & second variable is \" + str(secnd_int))\n",
    "print(\"Addition: \" + str(first_int) + \" + \" + str(secnd_int) + \" = \" + str(addition))\n",
    "print(\"substraction: \" + str(first_int) + \" - \" + str(secnd_int) + \" = \" + str(substraction))\n",
    "print(\"multiplication: \" + str(first_int) + \" * \" + str(secnd_int) + \" = \" + str(Multiplication))\n",
    "print(\"Division: \" + str(first_int) + \" / \" + str(secnd_int) + \" = \" + str(Division))"
   ]
  },
  {
   "cell_type": "markdown",
   "id": "1cc52a76",
   "metadata": {},
   "source": [
    "```\n",
    "\n",
    "\n",
    "\n",
    "\n",
    "Q.2. What is the difference between the following operators:\n",
    "(i) ‘/’ & ‘//’\n",
    "(ii) ‘**’ & ‘^’\n",
    "\n",
    "\n",
    "\n",
    "```"
   ]
  },
  {
   "cell_type": "code",
   "execution_count": 15,
   "id": "36a54980",
   "metadata": {},
   "outputs": [
    {
     "name": "stdout",
     "output_type": "stream",
     "text": [
      "0.5\n",
      "0\n"
     ]
    }
   ],
   "source": [
    "print(80/160)\n",
    "# / will simply divide given values\n",
    "print(80//160)\n",
    "# will give floor value after division"
   ]
  },
  {
   "cell_type": "markdown",
   "id": "90b1a9ab",
   "metadata": {},
   "source": [
    "```\n",
    "Q.3. List the logical operators.\n",
    "Ans : \"and\" \"or\" \"not\"\n",
    "\n",
    "\n",
    "\n",
    "Q.4. Explain right shift operator and left shift operator with examples.\n",
    "Ans : \n",
    "\n",
    "\n",
    "\n",
    "```"
   ]
  },
  {
   "cell_type": "code",
   "execution_count": 23,
   "id": "d5595e44",
   "metadata": {},
   "outputs": [
    {
     "name": "stdout",
     "output_type": "stream",
     "text": [
      "a >> 1 = 5\n",
      "b >> 1 = -5\n",
      "a << 1 = 10\n",
      "b << 1 = -20\n"
     ]
    }
   ],
   "source": [
    " \n",
    "a = 10\n",
    "b = -10\n",
    " \n",
    "# print bitwise right shift operator\n",
    "print(\"a >> 1 =\", a >> 1)\n",
    "print(\"b >> 1 =\", b >> 1)\n",
    " \n",
    "a = 5\n",
    "b = -10\n",
    " \n",
    "# print bitwise left shift operator\n",
    "print(\"a << 1 =\", a << 1)\n",
    "print(\"b << 1 =\", b << 1)"
   ]
  },
  {
   "cell_type": "markdown",
   "id": "2de0c613",
   "metadata": {},
   "source": [
    "```\n",
    "\n",
    "\n",
    "Q.5. Create a list containing int type data of length 15. Then write a code to check if 10 is\n",
    "present in the list or not\n",
    "\n",
    "\n",
    "```"
   ]
  },
  {
   "cell_type": "code",
   "execution_count": 22,
   "id": "a9c62b86",
   "metadata": {},
   "outputs": [
    {
     "name": "stdout",
     "output_type": "stream",
     "text": [
      "yes it is present\n"
     ]
    }
   ],
   "source": [
    "#Ans \n",
    "\n",
    "list1=[1,2,3,4,5,6,7,8,9,10,11,12,13,14,15]\n",
    "\n",
    "if 10 in list1:\n",
    "    print(\"yes it is present\")\n",
    "else : \n",
    "    print(\"not present\")"
   ]
  },
  {
   "cell_type": "code",
   "execution_count": null,
   "id": "2b0712da",
   "metadata": {},
   "outputs": [],
   "source": []
  }
 ],
 "metadata": {
  "kernelspec": {
   "display_name": "Python 3 (ipykernel)",
   "language": "python",
   "name": "python3"
  },
  "language_info": {
   "codemirror_mode": {
    "name": "ipython",
    "version": 3
   },
   "file_extension": ".py",
   "mimetype": "text/x-python",
   "name": "python",
   "nbconvert_exporter": "python",
   "pygments_lexer": "ipython3",
   "version": "3.9.13"
  }
 },
 "nbformat": 4,
 "nbformat_minor": 5
}
