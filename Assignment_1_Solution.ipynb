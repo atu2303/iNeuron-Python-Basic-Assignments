{
 "cells": [
  {
   "cell_type": "markdown",
   "id": "73d14c73",
   "metadata": {},
   "source": [
    "#                        Assignment Number - 1 : Solution "
   ]
  },
  {
   "cell_type": "markdown",
   "id": "2ff87ad6",
   "metadata": {},
   "source": [
    "```\n",
    "1. In the below elements which of them are values or an expression? \n",
    "Ans : \n",
    "*      = Mathematical expression to multiply.\n",
    "'hello'= String\n",
    "-87.8  = Value\n",
    "-      = Mathematical expression to minus.\n",
    "/      = Mathematical expression to divide.\n",
    "+      = Mathematical expression to add.\n",
    "6      = Value\n",
    "\n",
    "\n",
    "\n",
    "2. What is the difference between string and variable?\n",
    "Ans : String is actual value of variable, string needs to be stored inside quotes. \n",
    "      Variable is to store data value.\n",
    "      \n",
    "\n",
    "\n",
    "3. Describe three different data types.\n",
    "Ans : Integer - any numeric data value can be stored as integer. \n",
    "      Float   - any numeric data value which has decimal can be defined as Float\n",
    "      Char    - any variable stored within quotes can be defined as character variable.\n",
    "\n",
    "\n",
    "\n",
    "4. What is an expression made up of? What do all expressions do?\n",
    "Ans : An expression is a combination of values, variables, operators, and calls to functions. Expressions need to be evaluated. If you ask Python to print an expression, the interpreter evaluates the expression and displays the result.\n",
    "\n",
    "\n",
    "\n",
    "5. This assignment statements, like spam = 10. What is the difference between an expression and a statement?\n",
    "Ans : spam=10 is statement but spam=spam+10 is expression. \n",
    "\n",
    "\n",
    "\n",
    "6. After running the following code, what does the variable bacon contain?\n",
    "bacon = 22\n",
    "bacon + 1\n",
    "Ans : 22\n",
    "\n",
    "\n",
    "7. What should the values of the following two terms be?\n",
    "'spam' + 'spamspam'\n",
    "'spam' * 3\n",
    "Ans : both will give 'spamspamspam'.\n",
    "\n",
    "\n",
    "\n",
    "8. Why is eggs a valid variable name while 100 is invalid?\n",
    "Ans : variable name can't start from numbers.\n",
    "\n",
    "\n",
    "\n",
    "9. What three functions can be used to get the integer, floating-point number, or string version of a value?\n",
    "Ans : int() float(), str()\n",
    "\n",
    "\n",
    "\n",
    "10. Why does this expression cause an error? How can you fix it?\n",
    "'I have eaten ' + 99 + ' burritos.'\n",
    "Ans : only strings can be concatenated, this can be corrected as : 'I have eaten ' + '99' + ' burritos.'\n",
    "\n",
    "\n",
    "\n",
    "\n",
    "```\n"
   ]
  }
 ],
 "metadata": {
  "celltoolbar": "Raw Cell Format",
  "kernelspec": {
   "display_name": "Python 3 (ipykernel)",
   "language": "python",
   "name": "python3"
  },
  "language_info": {
   "codemirror_mode": {
    "name": "ipython",
    "version": 3
   },
   "file_extension": ".py",
   "mimetype": "text/x-python",
   "name": "python",
   "nbconvert_exporter": "python",
   "pygments_lexer": "ipython3",
   "version": "3.9.13"
  }
 },
 "nbformat": 4,
 "nbformat_minor": 5
}
