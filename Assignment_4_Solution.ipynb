{
 "cells": [
  {
   "cell_type": "markdown",
   "id": "51227c36",
   "metadata": {},
   "source": [
    "```\n",
    "\n",
    "1. What exactly is []?\n",
    "Ans : empty list.\n",
    "\n",
    "```"
   ]
  },
  {
   "cell_type": "markdown",
   "id": "246f78f1",
   "metadata": {},
   "source": [
    "\n",
    "2. In a list of values stored in a variable called spam, how would you assign the value 'hello' as the third value? (Assume [2, 4, 6, 8, 10] are in spam.)\n",
    "\n",
    "\n"
   ]
  },
  {
   "cell_type": "code",
   "execution_count": 4,
   "id": "a6d82758",
   "metadata": {},
   "outputs": [
    {
     "name": "stdout",
     "output_type": "stream",
     "text": [
      "[2, 4, 'hello', 8, 10]\n"
     ]
    }
   ],
   "source": [
    "spam=[2,4,6,8,10]\n",
    "spam[2]='hello'\n",
    "print(spam)"
   ]
  },
  {
   "cell_type": "markdown",
   "id": "269d72b5",
   "metadata": {},
   "source": [
    "Let's pretend the spam includes the list ['a', 'b', 'c', 'd'] for the next three queries.\n",
    "\n",
    "3. What is the value of spam[int(int('3' * 2) / 11)]? \n"
   ]
  },
  {
   "cell_type": "code",
   "execution_count": 10,
   "id": "808b8399",
   "metadata": {},
   "outputs": [
    {
     "data": {
      "text/plain": [
       "'d'"
      ]
     },
     "execution_count": 10,
     "metadata": {},
     "output_type": "execute_result"
    }
   ],
   "source": [
    " spam=['a', 'b', 'c', 'd'] \n",
    "\n",
    "spam[int(int('3' * 2)/11)]"
   ]
  },
  {
   "cell_type": "markdown",
   "id": "880d1d60",
   "metadata": {},
   "source": [
    "4. What is the value of spam[-1]?"
   ]
  },
  {
   "cell_type": "code",
   "execution_count": 12,
   "id": "8d1d11c5",
   "metadata": {},
   "outputs": [
    {
     "name": "stdout",
     "output_type": "stream",
     "text": [
      "d\n"
     ]
    }
   ],
   "source": [
    "print(spam[-1])"
   ]
  },
  {
   "cell_type": "markdown",
   "id": "fa13e36e",
   "metadata": {},
   "source": [
    "\n",
    "5. What is the value of spam[:2]?"
   ]
  },
  {
   "cell_type": "code",
   "execution_count": 13,
   "id": "80eec734",
   "metadata": {},
   "outputs": [
    {
     "name": "stdout",
     "output_type": "stream",
     "text": [
      "['a', 'b']\n"
     ]
    }
   ],
   "source": [
    "print(spam[:2])"
   ]
  },
  {
   "cell_type": "markdown",
   "id": "1979c0f7",
   "metadata": {},
   "source": [
    "\n",
    "Let's pretend bacon has the list [3.14, 'cat,' 11, 'cat,' True] for the next three questions.\n",
    "\n",
    "6. What is the value of bacon.index('cat')?"
   ]
  },
  {
   "cell_type": "code",
   "execution_count": 17,
   "id": "d04c912f",
   "metadata": {},
   "outputs": [
    {
     "data": {
      "text/plain": [
       "1"
      ]
     },
     "execution_count": 17,
     "metadata": {},
     "output_type": "execute_result"
    }
   ],
   "source": [
    "bacon=[3.14, 'cat', 11, 'cat', True] \n",
    "bacon.index('cat')\n"
   ]
  },
  {
   "cell_type": "markdown",
   "id": "e34ff775",
   "metadata": {},
   "source": [
    "\n",
    "7. How does bacon.append(99) change the look of the list value in bacon?"
   ]
  },
  {
   "cell_type": "code",
   "execution_count": 19,
   "id": "0cd9a929",
   "metadata": {},
   "outputs": [
    {
     "name": "stdout",
     "output_type": "stream",
     "text": [
      "[3.14, 'cat', 11, 'cat', True]\n",
      "[3.14, 'cat', 11, 'cat', True, 99]\n"
     ]
    }
   ],
   "source": [
    "print(bacon)\n",
    "bacon.append(99)\n",
    "print(bacon)"
   ]
  },
  {
   "cell_type": "markdown",
   "id": "5d491c41",
   "metadata": {},
   "source": [
    "\n",
    "\n",
    "8. How does bacon.remove('cat') change the look of the list in bacon?"
   ]
  },
  {
   "cell_type": "code",
   "execution_count": 20,
   "id": "cb14db66",
   "metadata": {},
   "outputs": [
    {
     "name": "stdout",
     "output_type": "stream",
     "text": [
      "[3.14, 'cat', 11, 'cat', True, 99]\n",
      "[3.14, 11, 'cat', True, 99]\n"
     ]
    }
   ],
   "source": [
    "print(bacon)\n",
    "bacon.remove('cat')\n",
    "print(bacon)"
   ]
  },
  {
   "cell_type": "markdown",
   "id": "cec116b8",
   "metadata": {},
   "source": [
    "\n",
    "9. What are the list concatenation and list replication operators?\n",
    "\n",
    "\n",
    "Ans : + , *"
   ]
  },
  {
   "cell_type": "markdown",
   "id": "4f6907ab",
   "metadata": {},
   "source": [
    "\n",
    "10. What is difference between the list methods append() and insert()?\n",
    "\n",
    "Ans : append will add given value in end of list but insert inserts given value in given position."
   ]
  },
  {
   "cell_type": "code",
   "execution_count": 25,
   "id": "65ebaf87",
   "metadata": {},
   "outputs": [
    {
     "data": {
      "text/plain": [
       "[1, 2, 'insert', 3, 4, 'append']"
      ]
     },
     "execution_count": 25,
     "metadata": {},
     "output_type": "execute_result"
    }
   ],
   "source": [
    "check=[1,2,3,4]\n",
    "check.append('append')\n",
    "check.insert(2,'insert')\n",
    "check"
   ]
  },
  {
   "cell_type": "markdown",
   "id": "0856a7dd",
   "metadata": {},
   "source": [
    "\n",
    "11. What are the two methods for removing items from a list?\n",
    "\n",
    "Ans : del remove"
   ]
  },
  {
   "cell_type": "markdown",
   "id": "ce3fd5d0",
   "metadata": {},
   "source": [
    "\n",
    "12. Describe how list values and string values are identical."
   ]
  },
  {
   "cell_type": "code",
   "execution_count": 29,
   "id": "fd4f50e5",
   "metadata": {},
   "outputs": [
    {
     "name": "stdout",
     "output_type": "stream",
     "text": [
      "4\n",
      "6\n",
      "l\n",
      "s\n",
      "['s']\n",
      "r\n"
     ]
    }
   ],
   "source": [
    "list_=['l','i','s','t']\n",
    "string_='string'\n",
    "\n",
    "#len function will work on both\n",
    "\n",
    "print(len(list_))\n",
    "print(len(string_))\n",
    "\n",
    "#indexes will work on both\n",
    "\n",
    "print(list_[0])\n",
    "print(string_[0])\n",
    "\n",
    "#slicing will work on both\n",
    "\n",
    "print(list_[2:3])\n",
    "print(string_[2:3])"
   ]
  },
  {
   "cell_type": "markdown",
   "id": "55eea5ee",
   "metadata": {},
   "source": [
    "13. What's the difference between tuples and lists?\n",
    "Ans : Tuple are immutable and lists are mutable. \n",
    "\n",
    "\n",
    "14. How do you type a tuple value that only contains the integer 42?\n",
    "Ans : (42)\n",
    "\n",
    "\n",
    "\n",
    "15. How do you get a list value's tuple form? How do you get a tuple value's list form?\n",
    "Ans : tuple() list()\n",
    "\n",
    "\n",
    "\n",
    "16. Variables that \"contain\" list values are not necessarily lists themselves. Instead, what do they contain?\n",
    "Ans : refrence to list value.\n",
    "\n",
    "\n",
    "\n",
    "17. How do you distinguish between copy.copy() and copy.deepcopy()?\n",
    "Ans : copy.copy()==> shallow copy\n",
    "      copy.deepcopy()==> deep copy"
   ]
  }
 ],
 "metadata": {
  "kernelspec": {
   "display_name": "Python 3 (ipykernel)",
   "language": "python",
   "name": "python3"
  },
  "language_info": {
   "codemirror_mode": {
    "name": "ipython",
    "version": 3
   },
   "file_extension": ".py",
   "mimetype": "text/x-python",
   "name": "python",
   "nbconvert_exporter": "python",
   "pygments_lexer": "ipython3",
   "version": "3.9.13"
  }
 },
 "nbformat": 4,
 "nbformat_minor": 5
}
