{
 "cells": [
  {
   "cell_type": "markdown",
   "id": "d151061b",
   "metadata": {},
   "source": [
    "```\n",
    "\n",
    "Q.1. What are keywords in python? Using the keyword library, print all the python keywords.\n",
    "Ans : \n",
    "\n",
    "'''"
   ]
  },
  {
   "cell_type": "code",
   "execution_count": 6,
   "id": "0ca1f942",
   "metadata": {},
   "outputs": [
    {
     "name": "stdout",
     "output_type": "stream",
     "text": [
      "['False', 'None', 'True', '__peg_parser__', 'and', 'as', 'assert', 'async', 'await', 'break', 'class', 'continue', 'def', 'del', 'elif', 'else', 'except', 'finally', 'for', 'from', 'global', 'if', 'import', 'in', 'is', 'lambda', 'nonlocal', 'not', 'or', 'pass', 'raise', 'return', 'try', 'while', 'with', 'yield']\n"
     ]
    }
   ],
   "source": [
    "import keyword\n",
    "print(keyword.kwlist)\n",
    "\n",
    "a=2+\\\n",
    "3"
   ]
  },
  {
   "cell_type": "code",
   "execution_count": null,
   "id": "20fa2554",
   "metadata": {},
   "outputs": [],
   "source": [
    "'''\n",
    "\n",
    "\n",
    "Q.2. What are the rules to create variables in python?\n",
    "Ans : A variable name must start with a letter or the underscore character\n",
    "\n",
    "\n",
    "Q.3. What are the standards and conventions followed for the nomenclature of variables in python to improve code readability \n",
    "and maintainability?\n",
    "Ans : it should make more meaning related to type of data it contain.\n",
    "\n",
    "\n",
    "\n",
    "Q.4. What will happen if a keyword is used as a variable name?\n",
    "Ans : SyntaxError: cannot assign to True\n",
    "\n",
    "\n",
    "Q.5. For what purpose def keyword is used?\n",
    "Ans : to create function.\n",
    "\n",
    "\n",
    "Q.6. What is the operation of this special character ‘\\’?\n",
    "Ans : to continue the line.\n",
    "\n",
    "\n",
    "\n",
    "Q.7. Give an example of the following conditions:\n",
    "(i) Homogeneous list\n",
    "(ii) Heterogeneous set\n",
    "(iii) Homogeneous tuple\n",
    "Ans : \n",
    "\n",
    "```"
   ]
  },
  {
   "cell_type": "code",
   "execution_count": 7,
   "id": "e133708d",
   "metadata": {},
   "outputs": [],
   "source": [
    "#i homogeneous list \n",
    "homgnus_list=[1,2,3,4,5]\n",
    "\n",
    "#ii heterogeneous list\n",
    "htrognus_list=[1,2,3,'abc',8.45]\n",
    "\n",
    "#iii homogeneous tuple\n",
    "homgnus_tuple=(1,2,3,4,5)\n",
    "\n"
   ]
  },
  {
   "cell_type": "markdown",
   "id": "695a4486",
   "metadata": {},
   "source": [
    "```\n",
    "\n",
    "Q.8. Explain the mutable and immutable data types with proper explanation & examples.\n",
    "Ans : \n",
    "\n",
    "\n",
    "    ```"
   ]
  },
  {
   "cell_type": "code",
   "execution_count": 14,
   "id": "c7ad948e",
   "metadata": {},
   "outputs": [
    {
     "name": "stdout",
     "output_type": "stream",
     "text": [
      "[1, 2, 3, 4, 5]\n",
      "[1, 2, 99, 4, 5]\n",
      "(1, 2, 3, 4, 5)\n"
     ]
    },
    {
     "ename": "TypeError",
     "evalue": "'tuple' object does not support item assignment",
     "output_type": "error",
     "traceback": [
      "\u001b[1;31m---------------------------------------------------------------------------\u001b[0m",
      "\u001b[1;31mTypeError\u001b[0m                                 Traceback (most recent call last)",
      "Cell \u001b[1;32mIn[14], line 17\u001b[0m\n\u001b[0;32m     14\u001b[0m immutble_tuple\u001b[38;5;241m=\u001b[39m(\u001b[38;5;241m1\u001b[39m,\u001b[38;5;241m2\u001b[39m,\u001b[38;5;241m3\u001b[39m,\u001b[38;5;241m4\u001b[39m,\u001b[38;5;241m5\u001b[39m)\n\u001b[0;32m     15\u001b[0m \u001b[38;5;28mprint\u001b[39m(immutble_tuple)\n\u001b[1;32m---> 17\u001b[0m immutble_tuple[\u001b[38;5;241m2\u001b[39m]\u001b[38;5;241m=\u001b[39m\u001b[38;5;241m99\u001b[39m\n\u001b[0;32m     18\u001b[0m \u001b[38;5;28mprint\u001b[39m(immutble_tuple)\n",
      "\u001b[1;31mTypeError\u001b[0m: 'tuple' object does not support item assignment"
     ]
    }
   ],
   "source": [
    "#Ans : when you can remove/add/modify elements it is called mutable else called immutable\n",
    "\n",
    "# example for mutable.\n",
    "mutble_list=[1,2,3,4,5]\n",
    "print(mutble_list)\n",
    "\n",
    "mutble_list[2]=99\n",
    "print(mutble_list)\n",
    "\n",
    "\n",
    "\n",
    "# example for immutable.\n",
    "\n",
    "immutble_tuple=(1,2,3,4,5)\n",
    "print(immutble_tuple)\n",
    "\n",
    "immutble_tuple[2]=99\n",
    "print(immutble_tuple)"
   ]
  },
  {
   "cell_type": "markdown",
   "id": "9522367a",
   "metadata": {},
   "source": [
    "```\n",
    "Q.9. Write a code to create the given structure using only for loop.\n",
    "    *\n",
    "   ***\n",
    "  *****\n",
    " *******\n",
    "*********\n",
    "\n",
    "```\n"
   ]
  },
  {
   "cell_type": "code",
   "execution_count": 27,
   "id": "9ef909b3",
   "metadata": {},
   "outputs": [
    {
     "name": "stdout",
     "output_type": "stream",
     "text": [
      "    *\n",
      "   ***\n",
      "  *****\n",
      " *******\n",
      "*********\n"
     ]
    }
   ],
   "source": [
    "a=4\n",
    "b=1\n",
    "for i in range(5):\n",
    "    print(' '*a+'*'*b)\n",
    "    a-=1\n",
    "    b+=2"
   ]
  },
  {
   "cell_type": "markdown",
   "id": "2736c04a",
   "metadata": {},
   "source": [
    "```\n",
    "Q.10. Write a code to create the given structure using while loop.\n",
    "|||||||||\n",
    " |||||||\n",
    "  |||||\n",
    "   |||\n",
    "    |\n",
    "```"
   ]
  },
  {
   "cell_type": "code",
   "execution_count": 3,
   "id": "35ec3010",
   "metadata": {},
   "outputs": [
    {
     "name": "stdout",
     "output_type": "stream",
     "text": [
      "|||||||||\n",
      " |||||||\n",
      "  |||||\n",
      "   |||\n",
      "    |\n"
     ]
    }
   ],
   "source": [
    "a=0\n",
    "b=9\n",
    "for i in range(5):\n",
    "    print(' '*a+'|'*b)\n",
    "    a+=1\n",
    "    b-=2"
   ]
  }
 ],
 "metadata": {
  "kernelspec": {
   "display_name": "Python 3 (ipykernel)",
   "language": "python",
   "name": "python3"
  },
  "language_info": {
   "codemirror_mode": {
    "name": "ipython",
    "version": 3
   },
   "file_extension": ".py",
   "mimetype": "text/x-python",
   "name": "python",
   "nbconvert_exporter": "python",
   "pygments_lexer": "ipython3",
   "version": "3.9.13"
  }
 },
 "nbformat": 4,
 "nbformat_minor": 5
}
